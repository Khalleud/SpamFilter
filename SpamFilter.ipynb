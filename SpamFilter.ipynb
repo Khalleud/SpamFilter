{
 "cells": [
  {
   "cell_type": "code",
   "execution_count": 47,
   "metadata": {},
   "outputs": [],
   "source": [
    "from nltk.tokenize import sent_tokenize, word_tokenize\n",
    "from nltk.stem import LancasterStemmer\n",
    "import nltk\n",
    "from nltk.stem import WordNetLemmatizer\n",
    "from nltk.corpus import stopwords \n",
    "\n",
    "import re\n",
    "\n",
    "#clean from special caracter\n",
    "def stripNonAlphaNum(text):\n",
    "    return \" \".join(re.compile(r'\\W+', re.UNICODE).split(text))\n",
    "\n",
    "\n",
    "\n",
    "# lemmitize sentences and lowercasing\n",
    "def stemSentence(sentence):\n",
    "    lancaster=LancasterStemmer()\n",
    "    wordnet_lemmatizer = WordNetLemmatizer()\n",
    "    token_words=word_tokenize(sentence)\n",
    "    stop_words = set(stopwords.words('english')) \n",
    "\n",
    "    token_words\n",
    "    stem_sentence=[]\n",
    "    for word in token_words:\n",
    "        if word not in stop_words:\n",
    "            stem_sentence.append(wordnet_lemmatizer.lemmatize(word,\"v\").lower())\n",
    "            stem_sentence.append(\" \")\n",
    "    return \"\".join(stem_sentence)\n",
    "\n",
    "\n",
    "#normalize urls number emailaddress\n",
    "def normalizing(sentence):\n",
    "    sentence = re.sub('http[s]?://(?:[a-zA-Z]|[0-9]|[$-_@.&+]|[!*\\(\\),]|(?:%[0-9a-fA-F][0-9a-fA-F]))+','httpaddr',sentence)\n",
    "    sentence = re.sub('[a-zA-Z0-9+_\\-\\.]+@[0-9a-zA-Z][.-0-9a-zA-Z]*.[a-zA-Z]+','emailaddr',sentence)\n",
    "    sentence = re.sub('[0-9]+','number',sentence)\n",
    "    sentece = re.sub('$','dollar',sentence)\n",
    "    sentence = re.sub('_','',sentence)\n",
    "    #could include dates\n",
    "    return sentence\n"
   ]
  },
  {
   "cell_type": "code",
   "execution_count": 33,
   "metadata": {},
   "outputs": [],
   "source": [
    "import pandas as pdold = ['Subject:','fwd:','to:','and','the']\n",
    "for c in old:\n",
    "    emails['text'] = emails['text'].str.replace(c,'')\n",
    "\n",
    "emails['text'] = emails['text'].apply(stripNonAlphaNum)\n",
    "emails['text'] = emails['text'].apply(stemSentence)\n",
    "emails['text'] = emails['text'].apply(normalizing)\n",
    "\n",
    "\n",
    "\n",
    "\n",
    "def createDictionnary(sentence):\n",
    "    mydict = Counter()\n",
    "    words = sentence.split()\n",
    "    for word in words:\n",
    "        mydict[word] += 1\n",
    "            \n",
    "    return mydict\n",
    "        \n",
    "mydict = createDictionnary(' '.join(emails['text'].values.flatten()))\n",
    "from collections import Counter\n",
    " \n",
    "\n",
    "#clean data\n",
    "\n",
    "col_names = ['label','text']\n",
    "emails = pd.read_csv(\"./spam-mails-dataset/spam_ham_dataset.csv\")[['label','text']]\n"
   ]
  },
  {
   "cell_type": "code",
   "execution_count": 34,
   "metadata": {},
   "outputs": [
    {
     "data": {
      "text/plain": [
       "[('number', 83429),\n",
       " ('ect', 13900),\n",
       " ('hou', 7289),\n",
       " ('enron', 6555),\n",
       " ('com', 3709),\n",
       " ('deal', 3656),\n",
       " ('please', 3243),\n",
       " ('gas', 3036),\n",
       " ('subject', 2891),\n",
       " ('meter', 2721)]"
      ]
     },
     "execution_count": 34,
     "metadata": {},
     "output_type": "execute_result"
    }
   ],
   "source": [
    "mydict.most_common(10)"
   ]
  }
 ],
 "metadata": {
  "kernelspec": {
   "display_name": "Python 3",
   "language": "python",
   "name": "python3"
  },
  "language_info": {
   "codemirror_mode": {
    "name": "ipython",
    "version": 3
   },
   "file_extension": ".py",
   "mimetype": "text/x-python",
   "name": "python",
   "nbconvert_exporter": "python",
   "pygments_lexer": "ipython3",
   "version": "3.7.3"
  }
 },
 "nbformat": 4,
 "nbformat_minor": 2
}
